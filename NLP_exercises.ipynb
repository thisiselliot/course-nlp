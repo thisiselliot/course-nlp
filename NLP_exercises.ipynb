{
 "cells": [
  {
   "cell_type": "code",
   "execution_count": 1,
   "metadata": {
    "ExecuteTime": {
     "end_time": "2021-05-17T01:43:22.621129Z",
     "start_time": "2021-05-17T01:43:15.927144Z"
    }
   },
   "outputs": [],
   "source": [
    "import spacy\n",
    "\n",
    "from nltk.stem.porter import *\n",
    "from nltk.stem import WordNetLemmatizer"
   ]
  },
  {
   "cell_type": "code",
   "execution_count": 2,
   "metadata": {
    "ExecuteTime": {
     "end_time": "2021-05-17T01:43:22.647958Z",
     "start_time": "2021-05-17T01:43:22.623450Z"
    }
   },
   "outputs": [
    {
     "data": {
      "text/plain": [
       "(['logistic', 'logistics', 'shoe', 'shoes'],\n",
       " ['logist', 'logist', 'shoe', 'shoe'])"
      ]
     },
     "execution_count": 2,
     "metadata": {},
     "output_type": "execute_result"
    }
   ],
   "source": [
    "stemmer = PorterStemmer()\n",
    "words = ['logistic', 'logistics', 'shoe', 'shoes']\n",
    "stems = [stemmer.stem(word) for word in words]\n",
    "words, stems"
   ]
  },
  {
   "cell_type": "code",
   "execution_count": 3,
   "metadata": {
    "ExecuteTime": {
     "end_time": "2021-05-17T01:43:24.586292Z",
     "start_time": "2021-05-17T01:43:22.670085Z"
    }
   },
   "outputs": [
    {
     "data": {
      "text/plain": [
       "['logistic', 'logistics', 'shoe', 'shoe']"
      ]
     },
     "execution_count": 3,
     "metadata": {},
     "output_type": "execute_result"
    }
   ],
   "source": [
    "lemmatizer = WordNetLemmatizer()\n",
    "lemms = [lemmatizer.lemmatize(word) for word in words]\n",
    "lemms"
   ]
  },
  {
   "cell_type": "code",
   "execution_count": 4,
   "metadata": {
    "ExecuteTime": {
     "end_time": "2021-05-17T01:43:25.340412Z",
     "start_time": "2021-05-17T01:43:24.590647Z"
    }
   },
   "outputs": [
    {
     "name": "stdout",
     "output_type": "stream",
     "text": [
      "logistic 6244480538327167225 logistic\n",
      "logistics 6244480538327167225 logistic\n",
      "shoe 12623266062479156681 shoe\n",
      "shoes 12623266062479156681 shoe\n"
     ]
    }
   ],
   "source": [
    "nlp = spacy.load('en_core_web_sm')\n",
    "spacey_lemms = nlp(u\"logistic logistics shoe shoes\")\n",
    "\n",
    "for token in spacey_lemms:\n",
    "    print(token, token.lemma, token.lemma_)"
   ]
  }
 ],
 "metadata": {
  "kernelspec": {
   "display_name": "Python 3",
   "language": "python",
   "name": "python3"
  },
  "language_info": {
   "codemirror_mode": {
    "name": "ipython",
    "version": 3
   },
   "file_extension": ".py",
   "mimetype": "text/x-python",
   "name": "python",
   "nbconvert_exporter": "python",
   "pygments_lexer": "ipython3",
   "version": "3.6.9"
  },
  "toc": {
   "base_numbering": 1,
   "nav_menu": {},
   "number_sections": true,
   "sideBar": true,
   "skip_h1_title": false,
   "title_cell": "Table of Contents",
   "title_sidebar": "Contents",
   "toc_cell": false,
   "toc_position": {},
   "toc_section_display": true,
   "toc_window_display": false
  },
  "varInspector": {
   "cols": {
    "lenName": 16,
    "lenType": 16,
    "lenVar": 40
   },
   "kernels_config": {
    "python": {
     "delete_cmd_postfix": "",
     "delete_cmd_prefix": "del ",
     "library": "var_list.py",
     "varRefreshCmd": "print(var_dic_list())"
    },
    "r": {
     "delete_cmd_postfix": ") ",
     "delete_cmd_prefix": "rm(",
     "library": "var_list.r",
     "varRefreshCmd": "cat(var_dic_list()) "
    }
   },
   "types_to_exclude": [
    "module",
    "function",
    "builtin_function_or_method",
    "instance",
    "_Feature"
   ],
   "window_display": false
  }
 },
 "nbformat": 4,
 "nbformat_minor": 4
}
